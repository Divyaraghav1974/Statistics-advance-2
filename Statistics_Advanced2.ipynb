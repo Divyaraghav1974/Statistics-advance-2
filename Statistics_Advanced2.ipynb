{
  "nbformat": 4,
  "nbformat_minor": 0,
  "metadata": {
    "colab": {
      "provenance": []
    },
    "kernelspec": {
      "name": "python3",
      "display_name": "Python 3"
    },
    "language_info": {
      "name": "python"
    }
  },
  "cells": [
    {
      "cell_type": "markdown",
      "source": [
        "Question 1: What is hypothesis testing in statistics?\n",
        "Ans\n",
        "\n",
        "Hypothesis testing in statistics is a method used to make decisisons or inferences about a population based on sample of data. It helps to determine wheter there is enought data or evidence to support a specific claim.\n",
        "\n",
        "Key Concepts:-\n",
        "\n",
        "Null Hypothesis(H₀):- It is what you assume to be true until you have evidence to prove.\n",
        "Example:- Average height of students in a class is 170cm.\n",
        "\n",
        "Alternate Hypothesis(Ha):- It is what you are trying to prove.\n",
        "Example:- Average height of students in a class is not 170cm.\n",
        "\n",
        "Significance Level (α):- the probability of rejecting null hypothesis when it is actually true.\n",
        "Example:- 5%\n",
        "\n",
        "Test Statistics:- A value calculated from the sample data that is used to test the hypothesis.\n",
        "Example:- P-statistics, T-statistics, chi-square, etc.\n",
        "\n",
        "P-value:- The probability of obtaining results as extreme as the observed results, assuming the null hypothesis is true.\n",
        "If p-value is less than alpha, reject the null hypothesis.\n",
        "\n",
        "Conclusion:- If p-value is less than alpha - Reject the null hypothesis.\n",
        "I p-value is greater than alpha- Fail to reject the null hypothesis.\n",
        "\n",
        "\n",
        "Question 2 What is the null hypothesis, and how does it differ from the alternative hypothesis?\n",
        "Answer:-\n",
        "\n",
        "Null Hypothesis:- It is what you are assuming to be true until you have evidence to prove it. It is you what test against. It usually contains a equal sign.\n",
        "Example:- Average height of students in a class is 170cm.\n",
        "\n",
        "Alternate Hypothesis:- It is the statement that contradicts to prove null hypothesis. It is what you are trying to prove.\n",
        "It's accepted when null hypothesis is proved to be failed.\n",
        "Example:- Average height of students in a class is not 170cm.\n",
        "\n",
        "Question 3: Explain the significance level in hypothesis testing and its role in deciding the outcome of a test.\n",
        "\n",
        "Answer:-\n",
        "\n",
        "Significance Level (α):- the probability of rejecting null hypothesis when it is actually true.\n",
        "\n",
        "Common values of alpha:-\n",
        "0.05, 0.01, 0.10\n",
        "\n",
        "Role in hypothesis testing:--\n",
        "It acts as cutoff point for deciding whether to:-\n",
        "1. Reject the null hypothesis(if p-value is less than alpha)\n",
        "2. Fail to reject the null hypothesis(if p-value is greater than alpha)\n",
        "\n",
        "\n",
        "Question 4: What are Type I and Type II errors? Give examples of each.\n",
        "\n",
        "Answer:-\n",
        "\n",
        "\n",
        "Type I error:- It occurs when you reject the null hypothesis when it is actually true.\n",
        "The Probability of making type I error is actually significance level.\n",
        "Example:-\n",
        "H₀: Average age of teachers in a school is 45 years.\n",
        "H₁: Average age of teachers in a school is not 45 years.\n",
        "\n",
        "A type I error occured if the test says average age of teachers in school is not 45 years, but it is actually 45years.\n",
        "\n",
        "Type II error:- It occurs when failed to reject the null hypothesis when it is actually False.\n",
        "Example:-\n",
        "H₀: Average age of teachers in a school is 45 years.\n",
        "H₁: Average age of teachers in a school is not 45 years.\n",
        "\n",
        "A type I error occured if the test says average age of teachers in school is 45 years, but it is actually not.\n",
        "\n",
        "\n",
        "Question 5: What is the difference between a Z-test and a T-test? Explain when to use each.\n",
        "\n",
        "Answer:-\n",
        "\n",
        "**Z test**:-\n",
        "\n",
        "Use When:\n",
        "\n",
        "The population standard deviation (σ) is known.\n",
        "\n",
        "The sample size is large (n ≥ 30), making the sampling distribution approximately normal.\n",
        "\n",
        "It is used in normal distribution.\n",
        "\n",
        "It remains fixed shape of distribution\n",
        "\n",
        "\n",
        "\n",
        "**T Test**:-\n",
        "\n",
        "Use When:\n",
        "\n",
        "The population standard deviation is unknown.\n",
        "\n",
        "The sample size is small (n < 30).\n",
        "\n",
        "It is used in T distribution.\n",
        "\n",
        "Its shape of distribution varies with degree of freedom.\n",
        "\n",
        "\n",
        "\n",
        "\n",
        "\n",
        "\n",
        "\n",
        "\n",
        "\n",
        "\n",
        "\n"
      ],
      "metadata": {
        "id": "gp-Fr98iSRJ4"
      }
    },
    {
      "cell_type": "code",
      "execution_count": 2,
      "metadata": {
        "colab": {
          "base_uri": "https://localhost:8080/"
        },
        "id": "doLCuenjSFM8",
        "outputId": "772d52ec-7952-4136-8792-616aa7c5718c"
      },
      "outputs": [
        {
          "output_type": "execute_result",
          "data": {
            "text/plain": [
              "array([4, 5, 7, 5, 4, 2, 3, 2, 7, 5, 4, 7, 4, 5, 5, 8, 8, 4, 5, 5, 5, 4,\n",
              "       3, 8, 4, 5, 8, 7, 6, 5, 3, 6, 7, 6, 4, 6, 4, 1, 2, 6, 7, 6, 3, 4,\n",
              "       6, 5, 9, 4, 6, 6, 4, 7, 6, 1, 2, 5, 8, 2, 6, 6, 5, 5, 5, 5, 4, 5,\n",
              "       6, 4, 4, 5, 4, 5, 4, 4, 6, 4, 3, 7, 7, 7, 8, 4, 3, 7, 6, 3, 6, 5,\n",
              "       4, 7, 2, 6, 3, 4, 6, 7, 5, 5, 7, 9, 5, 3, 5, 5, 5, 6, 2, 4, 6, 7,\n",
              "       8, 3, 6, 6, 3, 5, 5, 5, 5, 7, 5, 5, 5, 6, 6, 5, 4, 6, 5, 5, 5, 4,\n",
              "       5, 5, 5, 5, 7, 9, 5, 8, 7, 5, 7, 7, 2, 2, 6, 3, 3, 6, 3, 1, 6, 6,\n",
              "       1, 5, 7, 6, 5, 4, 3, 3, 5, 6, 3, 3, 6, 4, 3, 2, 4, 8, 5, 9, 6, 8,\n",
              "       9, 6, 4, 7, 2, 3, 2, 6, 5, 6, 3, 4, 3, 4, 5, 4, 6, 5, 4, 6, 3, 4,\n",
              "       7, 3, 4, 7, 5, 7, 5, 4, 4, 4, 5, 4, 4, 6, 5, 3, 3, 3, 5, 4, 5, 5,\n",
              "       3, 4, 6, 6, 6, 5, 4, 4, 6, 8, 7, 5, 4, 3, 6, 4, 4, 7, 2, 6, 3, 7,\n",
              "       5, 9, 5, 4, 7, 7, 3, 7, 9, 6, 7, 8, 5, 6, 7, 6, 5, 4, 3, 7, 6, 6,\n",
              "       5, 7, 5, 4, 4, 5, 4, 3, 6, 4, 4, 5, 4, 6, 3, 5, 4, 5, 5, 6, 8, 5,\n",
              "       6, 4, 2, 6, 2, 7, 4, 7, 6, 4, 4, 4, 6, 4, 3, 6, 6, 7, 6, 3, 2, 6,\n",
              "       6, 5, 6, 4, 8, 6, 3, 3, 6, 4, 4, 2, 4, 4, 5, 7, 3, 2, 5, 7, 4, 4,\n",
              "       1, 3, 7, 4, 4, 5, 6, 5, 8, 5, 3, 4, 5, 4, 8, 7, 4, 3, 3, 7, 5, 4,\n",
              "       3, 7, 4, 4, 6, 5, 7, 6, 6, 4, 6, 5, 7, 5, 6, 4, 7, 4, 3, 2, 5, 3,\n",
              "       5, 4, 9, 2, 4, 5, 6, 7, 4, 7, 5, 3, 6, 6, 6, 6, 6, 3, 5, 2, 7, 4,\n",
              "       6, 3, 5, 5, 7, 6, 6, 4, 6, 3, 4, 5, 6, 4, 5, 5, 5, 4, 4, 6, 4, 3,\n",
              "       6, 6, 4, 6, 6, 3, 5, 4, 7, 3, 5, 5, 7, 5, 6, 8, 5, 4, 3, 5, 5, 5,\n",
              "       4, 5, 4, 6, 4, 6, 6, 6, 8, 6, 3, 4, 8, 5, 5, 6, 5, 4, 6, 6, 4, 4,\n",
              "       5, 7, 6, 4, 1, 7, 3, 4, 6, 5, 5, 2, 5, 6, 4, 7, 5, 6, 4, 7, 6, 5,\n",
              "       4, 7, 4, 4, 4, 5, 5, 2, 5, 4, 4, 4, 5, 7, 2, 5, 3, 5, 6, 5, 6, 4,\n",
              "       6, 5, 2, 3, 8, 6, 5, 4, 4, 4, 6, 6, 5, 2, 6, 2, 6, 7, 7, 4, 4, 5,\n",
              "       5, 5, 5, 5, 6, 3, 6, 5, 6, 6, 7, 7, 3, 4, 7, 5, 6, 4, 7, 7, 5, 7,\n",
              "       4, 1, 4, 7, 6, 5, 7, 6, 5, 6, 3, 5, 6, 5, 7, 6, 4, 4, 8, 4, 3, 7,\n",
              "       8, 4, 4, 8, 3, 7, 5, 4, 7, 3, 5, 2, 5, 2, 4, 7, 6, 3, 4, 5, 7, 3,\n",
              "       5, 6, 6, 5, 7, 4, 4, 7, 4, 5, 4, 8, 6, 6, 6, 5, 3, 5, 6, 3, 5, 5,\n",
              "       7, 7, 5, 6, 5, 6, 6, 3, 6, 5, 4, 5, 6, 3, 3, 4, 6, 5, 4, 7, 5, 6,\n",
              "       5, 4, 4, 6, 5, 4, 5, 5, 6, 4, 5, 6, 6, 4, 5, 5, 7, 3, 4, 6, 4, 6,\n",
              "       6, 3, 4, 4, 4, 3, 6, 4, 7, 5, 6, 3, 2, 6, 4, 6, 2, 4, 6, 8, 5, 4,\n",
              "       8, 3, 4, 8, 5, 5, 7, 7, 6, 5, 6, 8, 7, 5, 6, 6, 9, 5, 6, 7, 7, 5,\n",
              "       3, 7, 6, 4, 5, 5, 8, 3, 7, 7, 5, 2, 6, 7, 3, 5, 3, 1, 6, 6, 4, 6,\n",
              "       6, 5, 6, 7, 2, 4, 3, 3, 6, 4, 5, 6, 3, 7, 7, 5, 5, 5, 5, 4, 5, 4,\n",
              "       6, 2, 7, 2, 3, 8, 4, 6, 5, 4, 2, 5, 5, 3, 6, 2, 5, 2, 2, 5, 4, 2,\n",
              "       5, 4, 7, 3, 5, 6, 2, 4, 3, 7, 4, 4, 5, 3, 5, 6, 6, 6, 6, 5, 6, 7,\n",
              "       4, 7, 5, 4, 2, 3, 4, 5, 6, 9, 4, 6, 3, 4, 2, 8, 4, 6, 6, 4, 4, 3,\n",
              "       0, 5, 6, 6, 5, 9, 6, 6, 5, 6, 7, 3, 7, 3, 7, 4, 8, 6, 5, 8, 4, 3,\n",
              "       4, 6, 4, 5, 3, 6, 3, 4, 5, 4, 7, 6, 6, 6, 4, 6, 5, 5, 2, 3, 4, 3,\n",
              "       8, 6, 2, 5, 4, 3, 7, 5, 5, 4, 5, 2, 8, 7, 6, 5, 6, 5, 5, 6, 4, 6,\n",
              "       5, 3, 4, 4, 6, 4, 8, 4, 4, 4, 4, 7, 3, 6, 5, 4, 3, 3, 6, 7, 5, 4,\n",
              "       4, 4, 5, 6, 6, 6, 5, 8, 5, 3, 4, 6, 4, 5, 5, 4, 6, 5, 7, 1, 6, 2,\n",
              "       2, 5, 8, 6, 5, 5, 5, 3, 5, 5, 7, 2, 6, 6, 5, 3, 3, 3, 3, 5, 5, 5,\n",
              "       8, 7, 5, 5, 4, 3, 5, 6, 4, 1, 6, 5, 6, 4, 3, 3, 5, 6, 3, 6, 4, 6,\n",
              "       5, 4, 5, 7, 6, 7, 4, 6, 3, 3, 3, 4, 4, 4, 3, 5, 4, 5, 3, 5, 6, 8,\n",
              "       4, 5, 3, 7, 7, 7, 4, 6, 8, 4])"
            ]
          },
          "metadata": {},
          "execution_count": 2
        }
      ],
      "source": [
        "\"\"\"Question 6: Write a Python program to generate a binomial distribution with n=10 and\n",
        "p=0.5, then plot its histogram.\n",
        "\"\"\"\n",
        "import numpy as np\n",
        "import pandas as pd\n",
        "import matplotlib.pyplot as plt\n",
        "import seaborn as sns\n",
        "\n",
        "import warnings\n",
        "warnings.filterwarnings('ignore')\n",
        "\n",
        "b = np.random.binomial(n = 10, p = 0.5, size = 1000)\n",
        "b\n"
      ]
    },
    {
      "cell_type": "code",
      "source": [
        "plt.hist(b, bins = 10)\n",
        "plt.show()"
      ],
      "metadata": {
        "colab": {
          "base_uri": "https://localhost:8080/",
          "height": 430
        },
        "id": "9akQj11UgnzC",
        "outputId": "e4362149-07fb-4c93-fbff-455ac14a904e"
      },
      "execution_count": 4,
      "outputs": [
        {
          "output_type": "display_data",
          "data": {
            "text/plain": [
              "<Figure size 640x480 with 1 Axes>"
            ],
            "image/png": "[encoded data removed]"
          },
          "metadata": {}
        }
      ]
    },
    {
      "cell_type": "code",
      "source": [
        "\"\"\"Question 7: Implement hypothesis testing using Z-statistics for a sample dataset in\n",
        "Python. Show the Python code and interpret the results.\n",
        "sample_data = [49.1, 50.2, 51.0, 48.7, 50.5, 49.8, 50.3, 50.7, 50.2, 49.6,\n",
        "50.1, 49.9, 50.8, 50.4, 48.9, 50.6, 50.0, 49.7, 50.2, 49.5,\n",
        "50.1, 50.3, 50.4, 50.5, 50.0, 50.7, 49.3, 49.8, 50.2, 50.9,\n",
        "50.3, 50.4, 50.0, 49.7, 50.5, 49.9]\n",
        "\"\"\"\n",
        "\n",
        "sample_data = [49.1, 50.2, 51.0, 48.7, 50.5, 49.8, 50.3, 50.7, 50.2, 49.6,\n",
        "50.1, 49.9, 50.8, 50.4, 48.9, 50.6, 50.0, 49.7, 50.2, 49.5,\n",
        "50.1, 50.3, 50.4, 50.5, 50.0, 50.7, 49.3, 49.8, 50.2, 50.9,\n",
        "50.3, 50.4, 50.0, 49.7, 50.5, 49.9]\n",
        "c = len(sample_data)\n",
        "print(c)\n"
      ],
      "metadata": {
        "colab": {
          "base_uri": "https://localhost:8080/"
        },
        "id": "QvcImvMrgz56",
        "outputId": "ff08b5eb-fa22-4df5-e3cb-3d8c5bdb68b9"
      },
      "execution_count": 9,
      "outputs": [
        {
          "output_type": "stream",
          "name": "stdout",
          "text": [
            "36\n"
          ]
        }
      ]
    },
    {
      "cell_type": "code",
      "source": [
        "mu_0 = 50       # Hypothesized population mean\n",
        "sigma = 0.5     # Known population standard deviation\n",
        "alpha = 0.05\n",
        "z_critical = 1.96\n",
        "\n",
        "Sample_mean = np.mean(sample_data)\n",
        "sample_std = np.std(sample_data)\n",
        "\n",
        "\n",
        "z_stat = (Sample_mean - mu_0)/(sigma/ np.sqrt(c))\n",
        "\n",
        "print(f\"{z_stat}, Z-stat value\")\n",
        "\n",
        "if z_stat > z_critical:\n",
        "  print('Reject the null hypothesis')\n",
        "else:\n",
        "  print(\"fail to reject the null hypothesis\")\n"
      ],
      "metadata": {
        "colab": {
          "base_uri": "https://localhost:8080/"
        },
        "id": "3Yn1p4YLhF3b",
        "outputId": "3e514096-e0cc-4b3d-a9c6-b84518e84fd1"
      },
      "execution_count": 10,
      "outputs": [
        {
          "output_type": "stream",
          "name": "stdout",
          "text": [
            "1.0666666666666629, Z-stat value\n",
            "fail to reject the null hypothesis\n"
          ]
        }
      ]
    },
    {
      "cell_type": "code",
      "source": [
        "\"\"\"Question 8: Write a Python script to simulate data from a normal distribution and\n",
        "calculate the 95% confidence interval for its mean. Plot the data using Matplotlib.\n",
        "\"\"\"\n",
        "d = np.random.normal(size = 1000)\n",
        "z_critical = 1.96\n",
        "x_bar = np.mean(d)\n",
        "d_std = np.std(d)\n",
        "n = len(d)\n",
        "\n",
        "std_error = d_std/np.sqrt(n) #95% confidence interval\n",
        "confi_interval_upper = x_bar + z_critical * (std_error)\n",
        "\n",
        "confi_interval_lower = x_bar - z_critical * (std_error)\n",
        "\n",
        "print(f\"Confidence interval upper is {confi_interval_upper}\")\n",
        "print(f\"Confidence interval lower is  {confi_interval_lower}\")"
      ],
      "metadata": {
        "colab": {
          "base_uri": "https://localhost:8080/"
        },
        "id": "lU8zXCeOkNpl",
        "outputId": "480821e7-726e-445b-89cd-3b4c9b37a5e7"
      },
      "execution_count": 17,
      "outputs": [
        {
          "output_type": "stream",
          "name": "stdout",
          "text": [
            "Confidence interval upper is 0.0452862776737145\n",
            "Confidence interval lower is  -0.08549705276246607\n"
          ]
        }
      ]
    },
    {
      "cell_type": "code",
      "source": [
        "plt.hist(d, bins = 30)\n",
        "plt.show()"
      ],
      "metadata": {
        "colab": {
          "base_uri": "https://localhost:8080/",
          "height": 430
        },
        "id": "YjPBapiWmQvn",
        "outputId": "132868f0-3aa6-4662-fa38-1d873708da15"
      },
      "execution_count": 18,
      "outputs": [
        {
          "output_type": "display_data",
          "data": {
            "text/plain": [
              "<Figure size 640x480 with 1 Axes>"
            ],
            "image/png": "[encoded data removed]"
          },
          "metadata": {}
        }
      ]
    },
    {
      "cell_type": "code",
      "source": [
        "\"\"\"Question 9: Write a Python function to calculate the Z-scores from a dataset and\n",
        "visualize the standardized data using a histogram. Explain what the Z-scores represent\n",
        "in terms of standard deviations from the mean.\n",
        "\"\"\"\n",
        "from scipy.stats import zscore\n",
        "g = np.random.normal(size = 100)\n",
        "g_mean = np.mean(g)\n",
        "g_std = np.std(g)\n",
        "z_score = zscore(g)\n",
        "print(f\"{z_score}, zscore of the g data\")\n",
        "print(f\"{g_mean}, g mean\")\n",
        "print(f\"{g_std}, g std\")\n",
        "\n",
        "#to visualize the zscore\n",
        "plt.hist(z_score, bins = 30)\n",
        "plt.show()\n"
      ],
      "metadata": {
        "colab": {
          "base_uri": "https://localhost:8080/",
          "height": 760
        },
        "id": "cC1Oj42WmhrD",
        "outputId": "6c1c9069-90ff-44c4-b813-764e5bac451d"
      },
      "execution_count": 19,
      "outputs": [
        {
          "output_type": "stream",
          "name": "stdout",
          "text": [
            "[ 0.09106108  1.04105107  2.13966832  0.57051963 -1.93194222 -0.07263347\n",
            " -1.20964458 -0.62109776  0.50553171  1.40218003 -1.18932052  0.87234291\n",
            "  2.06243646  1.2964102   1.65291484 -1.00484825 -0.19215555 -0.4369243\n",
            "  0.63408488  0.16048171  1.58257374  2.40790817  0.9438468  -0.84977863\n",
            " -0.42562429  0.03378574 -0.34640655 -0.21654664 -0.90924493  2.19622625\n",
            "  0.7084456  -0.82599164 -1.11514693 -1.14048269 -0.5057116  -0.80955861\n",
            "  0.23206272  0.71037148  0.1464781  -0.59488802 -1.4068911  -0.0424714\n",
            "  0.26614252 -0.24108704  0.51623217 -1.80715322 -0.30533752  0.12701379\n",
            " -0.06871186 -0.23566288 -1.29382384 -0.40020715  1.26583055  0.4145827\n",
            " -0.10261682  1.55050044  0.72457153 -1.31077037  0.23543615 -0.13936389\n",
            " -0.89679958  0.6954078  -0.30715134 -1.01639674 -0.14857172  0.42205447\n",
            " -1.82392252 -0.82518604  1.03706328  1.46888119 -0.52459682  1.46466817\n",
            "  1.21599905 -1.28413264  0.46517575 -0.26042617 -0.47144332 -1.02154782\n",
            " -1.03643852 -0.96793441 -0.33929754 -0.68277796 -2.4353884  -0.1381159\n",
            "  0.12599526  1.21825059  0.01635276  1.03688722  0.89657791  0.82790137\n",
            " -1.13380504  0.12218611  0.79586477 -0.03938071 -1.00641273 -2.07371913\n",
            "  0.78743322  0.54760823 -0.01270886  0.56319972], zscore of the g data\n",
            "0.13048381730373348, g mean\n",
            "0.9529229600148817, g std\n"
          ]
        },
        {
          "output_type": "display_data",
          "data": {
            "text/plain": [
              "<Figure size 640x480 with 1 Axes>"
            ],
            "image/png": "[encoded data removed]"
          },
          "metadata": {}
        }
      ]
    },
    {
      "cell_type": "code",
      "source": [
        "\"\"\" Z-score show how many standard deviations a data point is from the mean.\n",
        "\n",
        "Z= (x - μ)/𝜎\n",
        "X = individual datapoint\n",
        "μ = mean of the data\n",
        "𝜎 = standard deviation of the data\n",
        "\"\"\"\n",
        "​\n"
      ],
      "metadata": {
        "id": "BTdXdC3vn2B0"
      },
      "execution_count": null,
      "outputs": []
    }
  ]
}